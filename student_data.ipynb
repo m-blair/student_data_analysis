{
 "cells": [
  {
   "cell_type": "markdown",
   "source": [
    "# STUDENT ALCOHOL CONSUMPTION\n",
    "### DATASET ANALYSIS\n",
    "\n",
    "___\n",
    "\n",
    "#### CONTEXT:\n",
    "(*from source*)\n",
    "> The data were obtained in a survey of students math and portuguese language courses in secondary school. It contains a lot of interesting social, gender and study information about students. You can use it for some EDA or try to predict students final grade.\n",
    "\n",
    "#### DATASET:\n",
    "[Student Alcohol Consumption](https://www.kaggle.com/datasets/uciml/student-alcohol-consumption?select=student-merge.R)"
   ],
   "metadata": {
    "collapsed": false,
    "pycharm": {
     "name": "#%% md\n"
    }
   }
  },
  {
   "cell_type": "markdown",
   "source": [
    "### FEATURE REFERENCE TABLE\n",
    "Attributes for both student-mat.csv (Math course) and student-por.csv (Portuguese language course) datasets:\n",
    "\n",
    "1. **school** - student's school (binary: 'GP' - Gabriel Pereira or 'MS' - Mousinho da Silveira)\n",
    "2. **sex** - student's sex (binary: 'F' - female or 'M' - male)\n",
    "3. **age** - student's age (numeric: from 15 to 22)\n",
    "4. **address** - student's home address type (binary: 'U' - urban or 'R' - rural)\n",
    "5. **famsize** - family size (binary: 'LE3' - less or equal to 3 or 'GT3' - greater than 3)\n",
    "6. **Pstatus** - parent's cohabitation status (binary: 'T' - living together or 'A' - apart)\n",
    "7. **Medu** - mother's education (numeric: 0 - none, 1 - primary education (4th grade), 2 – 5th to 9th grade, 3 – secondary education or 4 – higher education)\n",
    "8. **Fedu** - father's education (numeric: 0 - none, 1 - primary education (4th grade), 2 – 5th to 9th grade, 3 – secondary education or 4 – higher education)\n",
    "9. **Mjob** - mother's job (nominal: 'teacher', 'health' care related, civil 'services' (e.g. administrative or police), 'at_home' or 'other')\n",
    "10. **Fjob** - father's job (nominal: 'teacher', 'health' care related, civil 'services' (e.g. administrative or police), 'at_home' or 'other')\n",
    "11. **reason** - reason to choose this school (nominal: close to 'home', school 'reputation', 'course' preference or 'other')\n",
    "12. **guardian** - student's guardian (nominal: 'mother', 'father' or 'other')\n",
    "13. **traveltime** - home to school travel time (numeric: 1 - <15 min., 2 - 15 to 30 min., 3 - 30 min. to 1 hour, or 4 - >1 hour)\n",
    "14. **studytime** - weekly study time (numeric: 1 - <2 hours, 2 - 2 to 5 hours, 3 - 5 to 10 hours, or 4 - >10 hours)\n",
    "15. **failures** - number of past class failures (numeric: n if 1<=n<3, else 4)\n",
    "16. **schoolsup** - extra educational support (binary: yes or no)\n",
    "17. **famsup** - family educational support (binary: yes or no)\n",
    "18. **paid** - extra paid classes within the course subject (Math or Portuguese) (binary: yes or no)\n",
    "19. **activities** - extra-curricular activities (binary: yes or no)\n",
    "20. **nursery** - attended nursery school (binary: yes or no)\n",
    "21. **higher** - wants to take higher education (binary: yes or no)\n",
    "22. **internet** - Internet access at home (binary: yes or no)\n",
    "23. **romantic** - with a romantic relationship (binary: yes or no)\n",
    "24. **famrel** - quality of family relationships (numeric: from 1 - very bad to 5 - excellent)\n",
    "25. **freetime** - free time after school (numeric: from 1 - very low to 5 - very high)\n",
    "26. **goout** - going out with friends (numeric: from 1 - very low to 5 - very high)\n",
    "27. **Dalc** - workday alcohol consumption (numeric: from 1 - very low to 5 - very high)\n",
    "28. **Walc** - weekend alcohol consumption (numeric: from 1 - very low to 5 - very high)\n",
    "29. **health** - current health status (numeric: from 1 - very bad to 5 - very good)\n",
    "30. **absences** - number of school absences (numeric: from 0 to 93)\n",
    "\n",
    "These grades are related with the course subject, Math or Portuguese:\n",
    "\n",
    "1. **G1** - first period grade (numeric: from 0 to 20)\n",
    "2. **G2** - second period grade (numeric: from 0 to 20)\n",
    "3. **G3** - final grade (numeric: from 0 to 20, output target)\n",
    "\n",
    "*Additional note: there are several (382) students that belong to both datasets .\n",
    "These students can be identified by searching for identical attributes\n",
    "that characterize each student, as shown in the annexed R file.*\n"
   ],
   "metadata": {
    "collapsed": false,
    "pycharm": {
     "name": "#%% md\n"
    }
   }
  },
  {
   "cell_type": "code",
   "execution_count": 17,
   "outputs": [],
   "source": [
    "import pandas as pd\n",
    "from pandas.plotting import table\n",
    "import numpy as np\n",
    "import seaborn as sns\n",
    "import matplotlib as mpl\n",
    "from matplotlib import pyplot as plt\n",
    "from importlib import reload\n",
    "import math\n",
    "import time\n",
    "from pandas.core.common import SettingWithCopyWarning, warnings\n",
    "\n",
    "warnings.simplefilter(action=\"ignore\", category=SettingWithCopyWarning)\n",
    "# local files\n",
    "\n",
    "\n",
    "\n",
    "plots = []"
   ],
   "metadata": {
    "collapsed": false,
    "pycharm": {
     "name": "#%%\n"
    }
   }
  },
  {
   "cell_type": "markdown",
   "source": [
    "# PART 1\n",
    "___"
   ],
   "metadata": {
    "collapsed": false,
    "pycharm": {
     "name": "#%% md\n"
    }
   }
  },
  {
   "cell_type": "code",
   "execution_count": 18,
   "outputs": [],
   "source": [
    "raw_student_data_math = pd.read_csv('datasets\\\\student-mat.csv')\n",
    "raw_student_data_por = pd.read_csv('datasets\\\\student-por.csv')\n",
    "\n",
    "df_math = pd.DataFrame(raw_student_data_math)\n",
    "df_por = pd.DataFrame(raw_student_data_por)"
   ],
   "metadata": {
    "collapsed": false,
    "pycharm": {
     "name": "#%%\n"
    }
   }
  },
  {
   "cell_type": "code",
   "execution_count": 19,
   "outputs": [
    {
     "data": {
      "text/plain": "False"
     },
     "execution_count": 19,
     "metadata": {},
     "output_type": "execute_result"
    }
   ],
   "source": [
    "# check for any missing values\n",
    "df_math.isnull().values.any()"
   ],
   "metadata": {
    "collapsed": false,
    "pycharm": {
     "name": "#%%\n"
    }
   }
  },
  {
   "cell_type": "code",
   "execution_count": 20,
   "outputs": [
    {
     "data": {
      "text/plain": "(395, 649)"
     },
     "execution_count": 20,
     "metadata": {},
     "output_type": "execute_result"
    }
   ],
   "source": [
    "len(df_math), len(df_por)\n",
    "#"
   ],
   "metadata": {
    "collapsed": false,
    "pycharm": {
     "name": "#%%\n"
    }
   }
  },
  {
   "cell_type": "code",
   "execution_count": 21,
   "outputs": [
    {
     "data": {
      "text/plain": "    school sex  age address famsize Pstatus  Medu  Fedu      Mjob      Fjob  \\\n0       GP   F   18       U     GT3       A     4     4   at_home   teacher   \n1       GP   F   17       U     GT3       T     1     1   at_home     other   \n2       GP   F   15       U     LE3       T     1     1   at_home     other   \n3       GP   F   15       U     GT3       T     4     2    health  services   \n4       GP   F   16       U     GT3       T     3     3     other     other   \n..     ...  ..  ...     ...     ...     ...   ...   ...       ...       ...   \n390     MS   M   20       U     LE3       A     2     2  services  services   \n391     MS   M   17       U     LE3       T     3     1  services  services   \n392     MS   M   21       R     GT3       T     1     1     other     other   \n393     MS   M   18       R     LE3       T     3     2  services     other   \n394     MS   M   19       U     LE3       T     1     1     other   at_home   \n\n     ... famrel freetime  goout  Dalc  Walc health absences  G1  G2  G3  \n0    ...      4        3      4     1     1      3        6   5   6   6  \n1    ...      5        3      3     1     1      3        4   5   5   6  \n2    ...      4        3      2     2     3      3       10   7   8  10  \n3    ...      3        2      2     1     1      5        2  15  14  15  \n4    ...      4        3      2     1     2      5        4   6  10  10  \n..   ...    ...      ...    ...   ...   ...    ...      ...  ..  ..  ..  \n390  ...      5        5      4     4     5      4       11   9   9   9  \n391  ...      2        4      5     3     4      2        3  14  16  16  \n392  ...      5        5      3     3     3      3        3  10   8   7  \n393  ...      4        4      1     3     4      5        0  11  12  10  \n394  ...      3        2      3     3     3      5        5   8   9   9  \n\n[395 rows x 33 columns]",
      "text/html": "<div>\n<style scoped>\n    .dataframe tbody tr th:only-of-type {\n        vertical-align: middle;\n    }\n\n    .dataframe tbody tr th {\n        vertical-align: top;\n    }\n\n    .dataframe thead th {\n        text-align: right;\n    }\n</style>\n<table border=\"1\" class=\"dataframe\">\n  <thead>\n    <tr style=\"text-align: right;\">\n      <th></th>\n      <th>school</th>\n      <th>sex</th>\n      <th>age</th>\n      <th>address</th>\n      <th>famsize</th>\n      <th>Pstatus</th>\n      <th>Medu</th>\n      <th>Fedu</th>\n      <th>Mjob</th>\n      <th>Fjob</th>\n      <th>...</th>\n      <th>famrel</th>\n      <th>freetime</th>\n      <th>goout</th>\n      <th>Dalc</th>\n      <th>Walc</th>\n      <th>health</th>\n      <th>absences</th>\n      <th>G1</th>\n      <th>G2</th>\n      <th>G3</th>\n    </tr>\n  </thead>\n  <tbody>\n    <tr>\n      <th>0</th>\n      <td>GP</td>\n      <td>F</td>\n      <td>18</td>\n      <td>U</td>\n      <td>GT3</td>\n      <td>A</td>\n      <td>4</td>\n      <td>4</td>\n      <td>at_home</td>\n      <td>teacher</td>\n      <td>...</td>\n      <td>4</td>\n      <td>3</td>\n      <td>4</td>\n      <td>1</td>\n      <td>1</td>\n      <td>3</td>\n      <td>6</td>\n      <td>5</td>\n      <td>6</td>\n      <td>6</td>\n    </tr>\n    <tr>\n      <th>1</th>\n      <td>GP</td>\n      <td>F</td>\n      <td>17</td>\n      <td>U</td>\n      <td>GT3</td>\n      <td>T</td>\n      <td>1</td>\n      <td>1</td>\n      <td>at_home</td>\n      <td>other</td>\n      <td>...</td>\n      <td>5</td>\n      <td>3</td>\n      <td>3</td>\n      <td>1</td>\n      <td>1</td>\n      <td>3</td>\n      <td>4</td>\n      <td>5</td>\n      <td>5</td>\n      <td>6</td>\n    </tr>\n    <tr>\n      <th>2</th>\n      <td>GP</td>\n      <td>F</td>\n      <td>15</td>\n      <td>U</td>\n      <td>LE3</td>\n      <td>T</td>\n      <td>1</td>\n      <td>1</td>\n      <td>at_home</td>\n      <td>other</td>\n      <td>...</td>\n      <td>4</td>\n      <td>3</td>\n      <td>2</td>\n      <td>2</td>\n      <td>3</td>\n      <td>3</td>\n      <td>10</td>\n      <td>7</td>\n      <td>8</td>\n      <td>10</td>\n    </tr>\n    <tr>\n      <th>3</th>\n      <td>GP</td>\n      <td>F</td>\n      <td>15</td>\n      <td>U</td>\n      <td>GT3</td>\n      <td>T</td>\n      <td>4</td>\n      <td>2</td>\n      <td>health</td>\n      <td>services</td>\n      <td>...</td>\n      <td>3</td>\n      <td>2</td>\n      <td>2</td>\n      <td>1</td>\n      <td>1</td>\n      <td>5</td>\n      <td>2</td>\n      <td>15</td>\n      <td>14</td>\n      <td>15</td>\n    </tr>\n    <tr>\n      <th>4</th>\n      <td>GP</td>\n      <td>F</td>\n      <td>16</td>\n      <td>U</td>\n      <td>GT3</td>\n      <td>T</td>\n      <td>3</td>\n      <td>3</td>\n      <td>other</td>\n      <td>other</td>\n      <td>...</td>\n      <td>4</td>\n      <td>3</td>\n      <td>2</td>\n      <td>1</td>\n      <td>2</td>\n      <td>5</td>\n      <td>4</td>\n      <td>6</td>\n      <td>10</td>\n      <td>10</td>\n    </tr>\n    <tr>\n      <th>...</th>\n      <td>...</td>\n      <td>...</td>\n      <td>...</td>\n      <td>...</td>\n      <td>...</td>\n      <td>...</td>\n      <td>...</td>\n      <td>...</td>\n      <td>...</td>\n      <td>...</td>\n      <td>...</td>\n      <td>...</td>\n      <td>...</td>\n      <td>...</td>\n      <td>...</td>\n      <td>...</td>\n      <td>...</td>\n      <td>...</td>\n      <td>...</td>\n      <td>...</td>\n      <td>...</td>\n    </tr>\n    <tr>\n      <th>390</th>\n      <td>MS</td>\n      <td>M</td>\n      <td>20</td>\n      <td>U</td>\n      <td>LE3</td>\n      <td>A</td>\n      <td>2</td>\n      <td>2</td>\n      <td>services</td>\n      <td>services</td>\n      <td>...</td>\n      <td>5</td>\n      <td>5</td>\n      <td>4</td>\n      <td>4</td>\n      <td>5</td>\n      <td>4</td>\n      <td>11</td>\n      <td>9</td>\n      <td>9</td>\n      <td>9</td>\n    </tr>\n    <tr>\n      <th>391</th>\n      <td>MS</td>\n      <td>M</td>\n      <td>17</td>\n      <td>U</td>\n      <td>LE3</td>\n      <td>T</td>\n      <td>3</td>\n      <td>1</td>\n      <td>services</td>\n      <td>services</td>\n      <td>...</td>\n      <td>2</td>\n      <td>4</td>\n      <td>5</td>\n      <td>3</td>\n      <td>4</td>\n      <td>2</td>\n      <td>3</td>\n      <td>14</td>\n      <td>16</td>\n      <td>16</td>\n    </tr>\n    <tr>\n      <th>392</th>\n      <td>MS</td>\n      <td>M</td>\n      <td>21</td>\n      <td>R</td>\n      <td>GT3</td>\n      <td>T</td>\n      <td>1</td>\n      <td>1</td>\n      <td>other</td>\n      <td>other</td>\n      <td>...</td>\n      <td>5</td>\n      <td>5</td>\n      <td>3</td>\n      <td>3</td>\n      <td>3</td>\n      <td>3</td>\n      <td>3</td>\n      <td>10</td>\n      <td>8</td>\n      <td>7</td>\n    </tr>\n    <tr>\n      <th>393</th>\n      <td>MS</td>\n      <td>M</td>\n      <td>18</td>\n      <td>R</td>\n      <td>LE3</td>\n      <td>T</td>\n      <td>3</td>\n      <td>2</td>\n      <td>services</td>\n      <td>other</td>\n      <td>...</td>\n      <td>4</td>\n      <td>4</td>\n      <td>1</td>\n      <td>3</td>\n      <td>4</td>\n      <td>5</td>\n      <td>0</td>\n      <td>11</td>\n      <td>12</td>\n      <td>10</td>\n    </tr>\n    <tr>\n      <th>394</th>\n      <td>MS</td>\n      <td>M</td>\n      <td>19</td>\n      <td>U</td>\n      <td>LE3</td>\n      <td>T</td>\n      <td>1</td>\n      <td>1</td>\n      <td>other</td>\n      <td>at_home</td>\n      <td>...</td>\n      <td>3</td>\n      <td>2</td>\n      <td>3</td>\n      <td>3</td>\n      <td>3</td>\n      <td>5</td>\n      <td>5</td>\n      <td>8</td>\n      <td>9</td>\n      <td>9</td>\n    </tr>\n  </tbody>\n</table>\n<p>395 rows × 33 columns</p>\n</div>"
     },
     "execution_count": 21,
     "metadata": {},
     "output_type": "execute_result"
    }
   ],
   "source": [
    "# preview math data\n",
    "df_math"
   ],
   "metadata": {
    "collapsed": false,
    "pycharm": {
     "name": "#%%\n"
    }
   }
  },
  {
   "cell_type": "code",
   "execution_count": 22,
   "outputs": [
    {
     "data": {
      "text/plain": "    school sex  age address famsize Pstatus  Medu  Fedu      Mjob      Fjob  \\\n0       GP   F   18       U     GT3       A     4     4   at_home   teacher   \n1       GP   F   17       U     GT3       T     1     1   at_home     other   \n2       GP   F   15       U     LE3       T     1     1   at_home     other   \n3       GP   F   15       U     GT3       T     4     2    health  services   \n4       GP   F   16       U     GT3       T     3     3     other     other   \n..     ...  ..  ...     ...     ...     ...   ...   ...       ...       ...   \n644     MS   F   19       R     GT3       T     2     3  services     other   \n645     MS   F   18       U     LE3       T     3     1   teacher  services   \n646     MS   F   18       U     GT3       T     1     1     other     other   \n647     MS   M   17       U     LE3       T     3     1  services  services   \n648     MS   M   18       R     LE3       T     3     2  services     other   \n\n     ... famrel freetime  goout  Dalc  Walc health absences  G1  G2  G3  \n0    ...      4        3      4     1     1      3        4   0  11  11  \n1    ...      5        3      3     1     1      3        2   9  11  11  \n2    ...      4        3      2     2     3      3        6  12  13  12  \n3    ...      3        2      2     1     1      5        0  14  14  14  \n4    ...      4        3      2     1     2      5        0  11  13  13  \n..   ...    ...      ...    ...   ...   ...    ...      ...  ..  ..  ..  \n644  ...      5        4      2     1     2      5        4  10  11  10  \n645  ...      4        3      4     1     1      1        4  15  15  16  \n646  ...      1        1      1     1     1      5        6  11  12   9  \n647  ...      2        4      5     3     4      2        6  10  10  10  \n648  ...      4        4      1     3     4      5        4  10  11  11  \n\n[649 rows x 33 columns]",
      "text/html": "<div>\n<style scoped>\n    .dataframe tbody tr th:only-of-type {\n        vertical-align: middle;\n    }\n\n    .dataframe tbody tr th {\n        vertical-align: top;\n    }\n\n    .dataframe thead th {\n        text-align: right;\n    }\n</style>\n<table border=\"1\" class=\"dataframe\">\n  <thead>\n    <tr style=\"text-align: right;\">\n      <th></th>\n      <th>school</th>\n      <th>sex</th>\n      <th>age</th>\n      <th>address</th>\n      <th>famsize</th>\n      <th>Pstatus</th>\n      <th>Medu</th>\n      <th>Fedu</th>\n      <th>Mjob</th>\n      <th>Fjob</th>\n      <th>...</th>\n      <th>famrel</th>\n      <th>freetime</th>\n      <th>goout</th>\n      <th>Dalc</th>\n      <th>Walc</th>\n      <th>health</th>\n      <th>absences</th>\n      <th>G1</th>\n      <th>G2</th>\n      <th>G3</th>\n    </tr>\n  </thead>\n  <tbody>\n    <tr>\n      <th>0</th>\n      <td>GP</td>\n      <td>F</td>\n      <td>18</td>\n      <td>U</td>\n      <td>GT3</td>\n      <td>A</td>\n      <td>4</td>\n      <td>4</td>\n      <td>at_home</td>\n      <td>teacher</td>\n      <td>...</td>\n      <td>4</td>\n      <td>3</td>\n      <td>4</td>\n      <td>1</td>\n      <td>1</td>\n      <td>3</td>\n      <td>4</td>\n      <td>0</td>\n      <td>11</td>\n      <td>11</td>\n    </tr>\n    <tr>\n      <th>1</th>\n      <td>GP</td>\n      <td>F</td>\n      <td>17</td>\n      <td>U</td>\n      <td>GT3</td>\n      <td>T</td>\n      <td>1</td>\n      <td>1</td>\n      <td>at_home</td>\n      <td>other</td>\n      <td>...</td>\n      <td>5</td>\n      <td>3</td>\n      <td>3</td>\n      <td>1</td>\n      <td>1</td>\n      <td>3</td>\n      <td>2</td>\n      <td>9</td>\n      <td>11</td>\n      <td>11</td>\n    </tr>\n    <tr>\n      <th>2</th>\n      <td>GP</td>\n      <td>F</td>\n      <td>15</td>\n      <td>U</td>\n      <td>LE3</td>\n      <td>T</td>\n      <td>1</td>\n      <td>1</td>\n      <td>at_home</td>\n      <td>other</td>\n      <td>...</td>\n      <td>4</td>\n      <td>3</td>\n      <td>2</td>\n      <td>2</td>\n      <td>3</td>\n      <td>3</td>\n      <td>6</td>\n      <td>12</td>\n      <td>13</td>\n      <td>12</td>\n    </tr>\n    <tr>\n      <th>3</th>\n      <td>GP</td>\n      <td>F</td>\n      <td>15</td>\n      <td>U</td>\n      <td>GT3</td>\n      <td>T</td>\n      <td>4</td>\n      <td>2</td>\n      <td>health</td>\n      <td>services</td>\n      <td>...</td>\n      <td>3</td>\n      <td>2</td>\n      <td>2</td>\n      <td>1</td>\n      <td>1</td>\n      <td>5</td>\n      <td>0</td>\n      <td>14</td>\n      <td>14</td>\n      <td>14</td>\n    </tr>\n    <tr>\n      <th>4</th>\n      <td>GP</td>\n      <td>F</td>\n      <td>16</td>\n      <td>U</td>\n      <td>GT3</td>\n      <td>T</td>\n      <td>3</td>\n      <td>3</td>\n      <td>other</td>\n      <td>other</td>\n      <td>...</td>\n      <td>4</td>\n      <td>3</td>\n      <td>2</td>\n      <td>1</td>\n      <td>2</td>\n      <td>5</td>\n      <td>0</td>\n      <td>11</td>\n      <td>13</td>\n      <td>13</td>\n    </tr>\n    <tr>\n      <th>...</th>\n      <td>...</td>\n      <td>...</td>\n      <td>...</td>\n      <td>...</td>\n      <td>...</td>\n      <td>...</td>\n      <td>...</td>\n      <td>...</td>\n      <td>...</td>\n      <td>...</td>\n      <td>...</td>\n      <td>...</td>\n      <td>...</td>\n      <td>...</td>\n      <td>...</td>\n      <td>...</td>\n      <td>...</td>\n      <td>...</td>\n      <td>...</td>\n      <td>...</td>\n      <td>...</td>\n    </tr>\n    <tr>\n      <th>644</th>\n      <td>MS</td>\n      <td>F</td>\n      <td>19</td>\n      <td>R</td>\n      <td>GT3</td>\n      <td>T</td>\n      <td>2</td>\n      <td>3</td>\n      <td>services</td>\n      <td>other</td>\n      <td>...</td>\n      <td>5</td>\n      <td>4</td>\n      <td>2</td>\n      <td>1</td>\n      <td>2</td>\n      <td>5</td>\n      <td>4</td>\n      <td>10</td>\n      <td>11</td>\n      <td>10</td>\n    </tr>\n    <tr>\n      <th>645</th>\n      <td>MS</td>\n      <td>F</td>\n      <td>18</td>\n      <td>U</td>\n      <td>LE3</td>\n      <td>T</td>\n      <td>3</td>\n      <td>1</td>\n      <td>teacher</td>\n      <td>services</td>\n      <td>...</td>\n      <td>4</td>\n      <td>3</td>\n      <td>4</td>\n      <td>1</td>\n      <td>1</td>\n      <td>1</td>\n      <td>4</td>\n      <td>15</td>\n      <td>15</td>\n      <td>16</td>\n    </tr>\n    <tr>\n      <th>646</th>\n      <td>MS</td>\n      <td>F</td>\n      <td>18</td>\n      <td>U</td>\n      <td>GT3</td>\n      <td>T</td>\n      <td>1</td>\n      <td>1</td>\n      <td>other</td>\n      <td>other</td>\n      <td>...</td>\n      <td>1</td>\n      <td>1</td>\n      <td>1</td>\n      <td>1</td>\n      <td>1</td>\n      <td>5</td>\n      <td>6</td>\n      <td>11</td>\n      <td>12</td>\n      <td>9</td>\n    </tr>\n    <tr>\n      <th>647</th>\n      <td>MS</td>\n      <td>M</td>\n      <td>17</td>\n      <td>U</td>\n      <td>LE3</td>\n      <td>T</td>\n      <td>3</td>\n      <td>1</td>\n      <td>services</td>\n      <td>services</td>\n      <td>...</td>\n      <td>2</td>\n      <td>4</td>\n      <td>5</td>\n      <td>3</td>\n      <td>4</td>\n      <td>2</td>\n      <td>6</td>\n      <td>10</td>\n      <td>10</td>\n      <td>10</td>\n    </tr>\n    <tr>\n      <th>648</th>\n      <td>MS</td>\n      <td>M</td>\n      <td>18</td>\n      <td>R</td>\n      <td>LE3</td>\n      <td>T</td>\n      <td>3</td>\n      <td>2</td>\n      <td>services</td>\n      <td>other</td>\n      <td>...</td>\n      <td>4</td>\n      <td>4</td>\n      <td>1</td>\n      <td>3</td>\n      <td>4</td>\n      <td>5</td>\n      <td>4</td>\n      <td>10</td>\n      <td>11</td>\n      <td>11</td>\n    </tr>\n  </tbody>\n</table>\n<p>649 rows × 33 columns</p>\n</div>"
     },
     "execution_count": 22,
     "metadata": {},
     "output_type": "execute_result"
    }
   ],
   "source": [
    "df_por"
   ],
   "metadata": {
    "collapsed": false,
    "pycharm": {
     "name": "#%%\n"
    }
   }
  },
  {
   "cell_type": "markdown",
   "source": [
    "# PART 1A\n",
    "### SEX\n",
    "___\n",
    "\n",
    "As of 2020, men make up 50.4% of the world population, while women make up 49.6%. Let's explore whether this is also descriptive of our data or not."
   ],
   "metadata": {
    "collapsed": false,
    "pycharm": {
     "name": "#%% md\n"
    }
   }
  },
  {
   "cell_type": "code",
   "execution_count": 23,
   "outputs": [
    {
     "data": {
      "text/plain": "<Figure size 576x252 with 2 Axes>",
      "image/png": "[encoded data removed]"
     },
     "metadata": {},
     "output_type": "display_data"
    }
   ],
   "source": [
    "# get dist of sex among all students\n",
    "agg_sex_data = pd.DataFrame(data=df_math['sex'].value_counts())\n",
    "agg_sex_data = agg_sex_data.rename(columns={'sex': 'Math'})\n",
    "agg_sex_data['Portuguese'] = df_por['sex'].value_counts().values\n",
    "pie1 = agg_sex_data.sort_index(axis=0).plot(kind='pie', title='Sex Distribution of Students by Class', subplots=True, legend=False, figsize=(8,3.5), autopct='%1.1f%%', startangle=0, fontsize=15, colormap='Set1')\n"
   ],
   "metadata": {
    "collapsed": false,
    "pycharm": {
     "name": "#%%\n"
    }
   }
  },
  {
   "cell_type": "markdown",
   "source": [
    "We can see that there are more women than men in both classes, though the split is more even within the Math class.\n",
    "\n",
    "*Does this trend of female majority hold for each school?*"
   ],
   "metadata": {
    "collapsed": false,
    "pycharm": {
     "name": "#%% md\n"
    }
   }
  },
  {
   "cell_type": "code",
   "execution_count": 28,
   "outputs": [
    {
     "data": {
      "text/plain": "   sex_GP  sex_MS\nF     237     146\nM     186      80",
      "text/html": "<div>\n<style scoped>\n    .dataframe tbody tr th:only-of-type {\n        vertical-align: middle;\n    }\n\n    .dataframe tbody tr th {\n        vertical-align: top;\n    }\n\n    .dataframe thead th {\n        text-align: right;\n    }\n</style>\n<table border=\"1\" class=\"dataframe\">\n  <thead>\n    <tr style=\"text-align: right;\">\n      <th></th>\n      <th>sex_GP</th>\n      <th>sex_MS</th>\n    </tr>\n  </thead>\n  <tbody>\n    <tr>\n      <th>F</th>\n      <td>237</td>\n      <td>146</td>\n    </tr>\n    <tr>\n      <th>M</th>\n      <td>186</td>\n      <td>80</td>\n    </tr>\n  </tbody>\n</table>\n</div>"
     },
     "execution_count": 28,
     "metadata": {},
     "output_type": "execute_result"
    }
   ],
   "source": [
    "# split data by school ('GP' and 'MS')\n",
    "gp_students = df_por.loc[df_por['school'] == 'GP']\n",
    "ms_students = df_por.loc[df_por['school'] == 'MS']\n",
    "\n",
    "gp_sex_ratio = gp_students['sex'].value_counts()\n",
    "ms_sex_ratio = ms_students['sex'].value_counts()\n",
    "\n",
    "# aggregate sex data and plot\n",
    "pd.merge(gp_sex_ratio, ms_sex_ratio, left_index=True, right_index=True, suffixes=['_GP', '_MS'])\n",
    "# pie2 = agg_sexes_by_school.plot(kind='pie', grid=False, title='Sex Distribution by School', subplots=True, autopct='%1.1f%%', startangle=0, fontsize=15, legend=False, figsize=(8,3.5), colormap='Spectral')\n",
    "\n",
    "# plt.savefig('figures\\\\sex_dist_by_school.png', dpi=300)"
   ],
   "metadata": {
    "collapsed": false,
    "pycharm": {
     "name": "#%%\n"
    }
   }
  },
  {
   "cell_type": "code",
   "execution_count": 29,
   "outputs": [
    {
     "data": {
      "text/plain": "array([<AxesSubplot:ylabel='Math'>, <AxesSubplot:ylabel='Portuguese'>],\n      dtype=object)"
     },
     "execution_count": 29,
     "metadata": {},
     "output_type": "execute_result"
    },
    {
     "data": {
      "text/plain": "<Figure size 576x252 with 2 Axes>",
      "image/png": "[encoded data removed]"
     },
     "metadata": {},
     "output_type": "display_data"
    }
   ],
   "source": [
    "# compare results with previous chart\n",
    "agg_sex_data.sort_index(axis=0).plot(kind='pie', title='Sex Distribution of Students by Class', subplots=True, legend=False, figsize=(8,3.5), autopct='%1.1f%%', startangle=0, fontsize=15, colormap='Set1')\n",
    "\n",
    "# plt.savefig('figures\\\\sex_dist_by_class.png', dpi=300)"
   ],
   "metadata": {
    "collapsed": false,
    "pycharm": {
     "name": "#%%\n"
    }
   }
  },
  {
   "cell_type": "markdown",
   "source": [
    "We can see that both schools contain more female than male students. If taking Math were required of all students at these schools, we should observe women making up between 56-64.6% of all math students roughly, but this is not the case. Note that this holds for the portuguese students. On the other hand, the proportion of male math students is greater than that of male students at either school. Therefore, some potential explanations for this may be:\n",
    "\n",
    "- math is not a requirement, and women are less likely to enroll\n",
    "- math is not a requirement, and men are more likely to enroll\n",
    "- math is required, but some other factor (not described in the dataset) is responsible for this discrepancy"
   ],
   "metadata": {
    "collapsed": false,
    "pycharm": {
     "name": "#%% md\n"
    }
   }
  },
  {
   "cell_type": "markdown",
   "source": [
    "# PART 1B\n",
    "### AGE\n",
    "___"
   ],
   "metadata": {
    "collapsed": false,
    "pycharm": {
     "name": "#%% md\n"
    }
   }
  },
  {
   "cell_type": "code",
   "execution_count": 30,
   "outputs": [
    {
     "name": "stdout",
     "output_type": "stream",
     "text": [
      "Math students age 15-19: 98.73%\n",
      "Portuguese Language students age 15-19: 98.61%\n"
     ]
    },
    {
     "data": {
      "text/plain": "<Figure size 432x288 with 1 Axes>",
      "image/png": "[encoded data removed]"
     },
     "metadata": {},
     "output_type": "display_data"
    }
   ],
   "source": [
    "# get age dist among all students\n",
    "agg_age_data = pd.DataFrame(data=df_math['age'].value_counts().sort_values(ascending=False))\n",
    "agg_age_data = agg_age_data.rename(columns={'age': 'Math'})\n",
    "agg_age_data['Portuguese'] = df_por['age'].value_counts().values\n",
    "\n",
    "gruped_bar1 = agg_age_data.sort_index(axis=0).plot(kind='bar', grid=False, title='Age Distribution by Class', xlabel='Age').set(ylabel='Count')\n",
    "\n",
    "# plt.figure(figsize=(10, 10))\n",
    "\n",
    "num_math_students = agg_age_data['Math'].sum()\n",
    "age_range_15_to_19_math = round(((num_math_students - agg_age_data['Math'].loc[20:22].sum()) / num_math_students) * 100, 2)\n",
    "num_por_students = agg_age_data['Portuguese'].sum()\n",
    "age_range_15_to_19_por = round(((num_por_students - agg_age_data['Portuguese'].loc[20:22].sum()) / num_por_students) * 100, 2)\n",
    "\n",
    "print(f\"Math students age 15-19: {age_range_15_to_19_math}%\")\n",
    "print(f\"Portuguese Language students age 15-19: {age_range_15_to_19_por}%\")\n",
    "agg_age_data.sort_index(axis=0)\n",
    "\n",
    "plt.savefig('figures\\\\age_dist_by_class.png', dpi=300)"
   ],
   "metadata": {
    "collapsed": false,
    "pycharm": {
     "name": "#%%\n"
    }
   }
  },
  {
   "cell_type": "markdown",
   "source": [
    "As expected, since most of the math students are contained in the portuguese class data, we see that the distribution of ages is similar between both. The majority of students are in the age range 15-19 (~98%)."
   ],
   "metadata": {
    "collapsed": false,
    "pycharm": {
     "name": "#%% md\n"
    }
   }
  },
  {
   "cell_type": "code",
   "execution_count": 31,
   "outputs": [
    {
     "data": {
      "text/plain": "<Figure size 432x288 with 1 Axes>",
      "image/png": "[encoded data removed]"
     },
     "metadata": {},
     "output_type": "display_data"
    }
   ],
   "source": [
    "# find alc consumption by age\n",
    "age_bins = []\n",
    "sums = []\n",
    "ages = df_por['age'].value_counts().keys().sort_values(ascending=True).to_list()\n",
    "[age_bins.append([age, []]) for age in ages]\n",
    "[sums.append(0) for i in ages]\n",
    "\n",
    "alc_cons_by_age = df_por[['age', 'Dalc', 'Walc']]\n",
    "alc_cons_by_age['Talc'] = alc_cons_by_age['Walc'] + alc_cons_by_age['Dalc']\n",
    "alc_cons_by_age.sort_values(by='age', inplace=True, ascending=True)\n",
    "alc_cons_by_age.reset_index(inplace=True)\n",
    "alc_cons_by_age = alc_cons_by_age[['age', 'Talc']]\n",
    "\n",
    "# find mean alc cons for each age\n",
    "# sum Talc for all students of each age, divide sums by number of students\n",
    "for i, age in enumerate(ages):\n",
    "    for j, row in alc_cons_by_age.iterrows():\n",
    "        if row['age'] == age:\n",
    "            age_bins[i][1].append(row['Talc'])\n",
    "    sums[i] = sum(age_bins[i][1])\n",
    "\n",
    "for i, s in enumerate(sums):\n",
    "    age = age_bins[i][0]\n",
    "    # num_of_students = agg_age_data.loc[age][1]\n",
    "    age_bins[i][1] = round(sums[i] / len(alc_cons_by_age), 2)\n",
    "\n",
    "alc_cons_by_age_data = pd.DataFrame(data=age_bins[:-1], columns=['age', 'Malc'])\n",
    "bar1 = alc_cons_by_age_data.plot(kind='bar', title='Mean Alcohol Consumption by Age', legend=False, x='age', y='Malc', colormap='Accent', grid=False)\n",
    "# alc_cons_by_age_data\n",
    "\n",
    "# plt.savefig('figures\\\\rel_alc_cons.png', dpi=300)"
   ],
   "metadata": {
    "collapsed": false,
    "pycharm": {
     "name": "#%%\n"
    }
   }
  },
  {
   "cell_type": "markdown",
   "source": [
    "By calculating the mean of each age's weekly alcohol consumption, we find that proportionally, 17-year-olds consume the most alcohol on average within the dataset. Relatively speaking, even the 17-year-old age group's mean of 1.1 is still considered *very low* on the scale posed by the dataset creator.\n",
    "\n",
    "Note that this visualization is only meant to compare the consumption habits of age groups *relative to each other* (within this dataset). For example, the dataset contains only a handful students older than 19, hence their consumption habits will appear lower in comparison."
   ],
   "metadata": {
    "collapsed": false,
    "pycharm": {
     "name": "#%% md\n"
    }
   }
  },
  {
   "cell_type": "markdown",
   "source": [
    "# PART 1C\n",
    "### LOCATION\n",
    "___\n",
    "\n",
    "Location data can tell us important information about the type of area the schools are located in. For example, if a majority of students live in an urban location, the school is likely in an urban area, or at least close to one. This would be similar for rural schools."
   ],
   "metadata": {
    "collapsed": false,
    "pycharm": {
     "name": "#%% md\n"
    }
   }
  },
  {
   "cell_type": "code",
   "execution_count": 93,
   "outputs": [
    {
     "data": {
      "text/plain": "(226, 423)"
     },
     "execution_count": 93,
     "metadata": {},
     "output_type": "execute_result"
    },
    {
     "data": {
      "text/plain": "<Figure size 432x288 with 1 Axes>",
      "image/png": "[encoded data removed]"
     },
     "metadata": {},
     "output_type": "display_data"
    }
   ],
   "source": [
    "fig, ax = plt.subplots()\n",
    "\n",
    "location_data = df_por[['school', 'address', 'traveltime', 'Pstatus']]\n",
    "\n",
    "loc_data_gp = location_data.loc[location_data['school'] == 'GP']\n",
    "loc_data_ms = location_data.loc[location_data['school'] == 'MS']\n",
    "\n",
    "addresses_gp = pd.DataFrame(loc_data_gp['address'].value_counts())\n",
    "addresses_ms = pd.DataFrame(loc_data_ms['address'].value_counts())\n",
    "\n",
    "addresses_by_school = addresses_ms.merge(addresses_gp, left_index=True, right_index=True, suffixes=['_MS', '_GP'])\n",
    "# location_data['address'].value_counts()\n",
    "\n",
    "addresses_by_school.plot(kind='bar', title='Student Location by School', grid=False, rot=0, colormap='YlGn', xlabel='Student Address', ylabel='Count', ax=ax)\n",
    "plt.xticks([0, 1], ['Rural', 'Urban'])\n",
    "ax.legend(['Mousinho da Silveira', 'Gabriel Pereira'])\n",
    "# ax.legend(['Mousinho da Silveira', 'Gabriel Pereira'])\n",
    "# sns.barplot()\n",
    "addresses_ms.address.sum(), addresses_gp.address.sum()\n",
    "# plt.savefig('figures\\\\student_loc_by_school.png', dpi=300)\n"
   ],
   "metadata": {
    "collapsed": false,
    "pycharm": {
     "name": "#%%\n"
    }
   }
  },
  {
   "cell_type": "markdown",
   "source": [
    "It's intuitive that a rural school would mostly contain students from rural areas, and that urban schools mostly contain students from urban areas. Alternatively, a school located in a suburb would have a mix of both kinds of students.\n",
    "\n",
    "\n",
    "Based on the figure and points above, we can see that **Mousinho da Silveira** is likely in a **suburban** area, given that it has a roughly even distribution of students from both kinds of areas.\n",
    "\n",
    "Whereas, **Gabriel Pereira** is mostly made up of students from urban areas, implying it is likely located **near or within a city**.\n",
    "\n",
    "It is also true that GP has nearly twice as many students as MS, which further supports the hypothesis that GP is a city school, and MS is a suburban school.\n",
    "In terms of MS student commute times, we should find a more varied distribution than that of students at GP, because the location of these students varies more overall. The commute times of students at GP should be more skewed because we found that roughly 2/3 of its student population to be located in urban areas."
   ],
   "metadata": {
    "collapsed": false,
    "pycharm": {
     "name": "#%% md\n"
    }
   }
  },
  {
   "cell_type": "code",
   "execution_count": 150,
   "outputs": [],
   "source": [
    "# get travel time distribution, sort by school\n",
    "commute_times = location_data.loc[:, ['school', 'traveltime']]\n",
    "commutes_gp = commute_times.loc[commute_times['school'] == 'GP']\n",
    "commutes_ms = commute_times.loc[commute_times['school'] == 'MS']"
   ],
   "metadata": {
    "collapsed": false,
    "pycharm": {
     "name": "#%%\n"
    }
   }
  },
  {
   "cell_type": "markdown",
   "source": [
    "Recall that:\n",
    ">**traveltime** - home to school travel time\n",
    "1 - <15 min.\n",
    "2 - 15 to 30 min.\n",
    "3 - 30 min. to 1 hour\n",
    "4 - >1 hour"
   ],
   "metadata": {
    "collapsed": false,
    "pycharm": {
     "name": "#%% md\n"
    }
   }
  },
  {
   "cell_type": "code",
   "execution_count": 171,
   "outputs": [
    {
     "data": {
      "text/plain": "(0.9267139479905437, 0.9778761061946902)"
     },
     "execution_count": 171,
     "metadata": {},
     "output_type": "execute_result"
    },
    {
     "data": {
      "text/plain": "<Figure size 432x288 with 1 Axes>",
      "image/png": "[encoded data removed]"
     },
     "metadata": {},
     "output_type": "display_data"
    }
   ],
   "source": [
    "fig1, ax = plt.subplots()\n",
    "time_lengths = ['< 15min.', '15 - 30min', '30min - 1hr', '> 1hr']\n",
    "\n",
    "ms_traveltimes = pd.DataFrame(commutes_ms['traveltime'].value_counts().sort_index(ascending=True))\n",
    "gp_traveltimes = pd.DataFrame(commutes_gp['traveltime'].value_counts().sort_index(ascending=True))\n",
    "\n",
    "\n",
    "agg_traveltimes = ms_traveltimes.merge(gp_traveltimes, left_index=True, right_index=True, suffixes=['_MS', '_GP'])\n",
    "# plot graph\n",
    "agg_traveltimes.plot(kind='bar', rot=0, title='Student Travel Times by School', ylabel='# of Students', xlabel='Commute Duration', colormap='YlGn', grid=True, ax=ax)\n",
    "plt.xticks([0, 1, 2, 3], time_lengths) # relabel x ticks\n",
    "ax.legend(['Mousinho da Silveira', 'Gabriel Pereira']) # relabel legend\n",
    "\n",
    "agg_traveltimes['traveltime_GP'][:2].sum() / agg_traveltimes['traveltime_GP'].sum(), agg_traveltimes['traveltime_MS'][:3].sum() / agg_traveltimes['traveltime_MS'].sum()\n",
    "\n",
    "# plt.savefig('figures\\\\student_traveltime_by_school.png', dpi=300)"
   ],
   "metadata": {
    "collapsed": false,
    "pycharm": {
     "name": "#%%\n"
    }
   }
  },
  {
   "cell_type": "markdown",
   "source": [
    "As expected, the data mostly supports our claims from the previous graph. Approximately 93% of students attending GP have a commute time less than or equal to 30 minutes, whereas 83% of students at MS have a 30 minute (or less) commute time.\n",
    "\n",
    "*(98% of students attending MS have a commute time of less than or equal to an hour)*"
   ],
   "metadata": {
    "collapsed": false,
    "pycharm": {
     "name": "#%% md\n"
    }
   }
  },
  {
   "cell_type": "code",
   "execution_count": 172,
   "outputs": [
    {
     "data": {
      "text/plain": "   traveltime\n1         283\n2         109\n3          20\n4          11",
      "text/html": "<div>\n<style scoped>\n    .dataframe tbody tr th:only-of-type {\n        vertical-align: middle;\n    }\n\n    .dataframe tbody tr th {\n        vertical-align: top;\n    }\n\n    .dataframe thead th {\n        text-align: right;\n    }\n</style>\n<table border=\"1\" class=\"dataframe\">\n  <thead>\n    <tr style=\"text-align: right;\">\n      <th></th>\n      <th>traveltime</th>\n    </tr>\n  </thead>\n  <tbody>\n    <tr>\n      <th>1</th>\n      <td>283</td>\n    </tr>\n    <tr>\n      <th>2</th>\n      <td>109</td>\n    </tr>\n    <tr>\n      <th>3</th>\n      <td>20</td>\n    </tr>\n    <tr>\n      <th>4</th>\n      <td>11</td>\n    </tr>\n  </tbody>\n</table>\n</div>"
     },
     "execution_count": 172,
     "metadata": {},
     "output_type": "execute_result"
    }
   ],
   "source": [
    "gp_traveltimes = pd.DataFrame(commutes_gp['traveltime'].value_counts().sort_index(ascending=True))\n",
    "gp_traveltimes"
   ],
   "metadata": {
    "collapsed": false,
    "pycharm": {
     "name": "#%%\n"
    }
   }
  },
  {
   "cell_type": "markdown",
   "source": [
    " # PART 1D\n",
    "### FAMILIAL/ECONOMIC STATUS\n",
    "___\n",
    "\n",
    "*Do a student's familial circumstances affect their school performance?*\n",
    "\n",
    "Features that could affect familial circumstances:\n",
    "- **famsize**: how big a student's family is\n",
    "- **Pstatus**: whether a student lives with their family or not\n",
    "- **Medu**, **Mjob**, **Fedu**, **Fjob**: parent's education level, job type (implies family economic status, if student is not estranged from family)\n",
    "- **guardian**: student's guardian (implies student's Pstatus)\n",
    "- **famsup**: whether a student's family supports their education or not\n",
    "- **nursery**: whether a student went to nursery school or not (implies family economic status)\n",
    "- **famrel**: a student's relationship to their family (higher = better)\n",
    "- **paid**: if a student took extra-coursework (implies family economic status)\n",
    "- **internet**: whether student has internet access (implies family economic status, if they live with family)\n",
    "\n",
    "#### Sub-Tasks:\n",
    "Do parents with higher education levels have children with higher grades?\n",
    "Do more supportive families yield children with higher grades?\n"
   ],
   "metadata": {
    "collapsed": false,
    "pycharm": {
     "name": "#%% md\n"
    }
   }
  },
  {
   "cell_type": "code",
   "execution_count": 33,
   "outputs": [
    {
     "data": {
      "text/plain": "<Figure size 432x288 with 1 Axes>",
      "image/png": "[encoded data removed]"
     },
     "metadata": {},
     "output_type": "display_data"
    }
   ],
   "source": [
    "# gather data on parents\n",
    "parents_data = df_por[['Medu', 'Mjob', 'Fedu', 'Fjob', 'G3']]\n",
    "# compute parents' education level\n",
    "parents_data['Pedu'] = parents_data['Medu'] + parents_data['Fedu']\n",
    "\n",
    "parents_education_grades = parents_data[['Pedu', 'G3']]\n",
    "# parents_education_grades.plot(kind='scatter', x='Pedu', y='G3', grid=False, title=\"Parent Education vs. Student Grades\")\n",
    "regplot = sns.regplot(data=parents_education_grades, x='Pedu', y='G3', scatter_kws={'color': 'blue'}, line_kws={'color': 'lightgreen'}, truncate=False, marker='.').set(title='Parent Education vs. Student Grades', xlabel='Parent Education Level', ylabel='Student Final Grade', )\n",
    "\n",
    "# plt.savefig('figures\\\\parent_edu_vs_student_grades.png', dpi=300)"
   ],
   "metadata": {
    "collapsed": false,
    "pycharm": {
     "name": "#%%\n"
    }
   }
  },
  {
   "cell_type": "markdown",
   "source": [
    "We observe a weak, but positive relationship between parental education and a student's grades. It could be that there is more data for students with parents who are more highly-educated than not. And we find that every parental education group contains at least 1 student that scores highly (>17.5/20). It seems that a student's parents' education does play a role in their grades, albeit to a small degree."
   ],
   "metadata": {
    "collapsed": false,
    "pycharm": {
     "name": "#%% md\n"
    }
   }
  },
  {
   "cell_type": "markdown",
   "source": [
    "___\n",
    "#### PARENTAL DEMOGRAPHICS"
   ],
   "metadata": {
    "collapsed": false,
    "pycharm": {
     "name": "#%% md\n"
    }
   }
  },
  {
   "cell_type": "code",
   "execution_count": 34,
   "outputs": [
    {
     "data": {
      "text/plain": "         Mjob  Medu      Fjob  Fedu guardian famsup  G3\n0     at_home     4   teacher     4   mother     no  11\n1     at_home     1     other     1   father    yes  11\n2     at_home     1     other     1   mother     no  12\n3      health     4  services     2   mother    yes  14\n4       other     3     other     3   father    yes  13\n..        ...   ...       ...   ...      ...    ...  ..\n644  services     2     other     3   mother     no  10\n645   teacher     3  services     1   mother    yes  16\n646     other     1     other     1   mother     no   9\n647  services     3  services     1   mother     no  10\n648  services     3     other     2   mother     no  11\n\n[649 rows x 7 columns]",
      "text/html": "<div>\n<style scoped>\n    .dataframe tbody tr th:only-of-type {\n        vertical-align: middle;\n    }\n\n    .dataframe tbody tr th {\n        vertical-align: top;\n    }\n\n    .dataframe thead th {\n        text-align: right;\n    }\n</style>\n<table border=\"1\" class=\"dataframe\">\n  <thead>\n    <tr style=\"text-align: right;\">\n      <th></th>\n      <th>Mjob</th>\n      <th>Medu</th>\n      <th>Fjob</th>\n      <th>Fedu</th>\n      <th>guardian</th>\n      <th>famsup</th>\n      <th>G3</th>\n    </tr>\n  </thead>\n  <tbody>\n    <tr>\n      <th>0</th>\n      <td>at_home</td>\n      <td>4</td>\n      <td>teacher</td>\n      <td>4</td>\n      <td>mother</td>\n      <td>no</td>\n      <td>11</td>\n    </tr>\n    <tr>\n      <th>1</th>\n      <td>at_home</td>\n      <td>1</td>\n      <td>other</td>\n      <td>1</td>\n      <td>father</td>\n      <td>yes</td>\n      <td>11</td>\n    </tr>\n    <tr>\n      <th>2</th>\n      <td>at_home</td>\n      <td>1</td>\n      <td>other</td>\n      <td>1</td>\n      <td>mother</td>\n      <td>no</td>\n      <td>12</td>\n    </tr>\n    <tr>\n      <th>3</th>\n      <td>health</td>\n      <td>4</td>\n      <td>services</td>\n      <td>2</td>\n      <td>mother</td>\n      <td>yes</td>\n      <td>14</td>\n    </tr>\n    <tr>\n      <th>4</th>\n      <td>other</td>\n      <td>3</td>\n      <td>other</td>\n      <td>3</td>\n      <td>father</td>\n      <td>yes</td>\n      <td>13</td>\n    </tr>\n    <tr>\n      <th>...</th>\n      <td>...</td>\n      <td>...</td>\n      <td>...</td>\n      <td>...</td>\n      <td>...</td>\n      <td>...</td>\n      <td>...</td>\n    </tr>\n    <tr>\n      <th>644</th>\n      <td>services</td>\n      <td>2</td>\n      <td>other</td>\n      <td>3</td>\n      <td>mother</td>\n      <td>no</td>\n      <td>10</td>\n    </tr>\n    <tr>\n      <th>645</th>\n      <td>teacher</td>\n      <td>3</td>\n      <td>services</td>\n      <td>1</td>\n      <td>mother</td>\n      <td>yes</td>\n      <td>16</td>\n    </tr>\n    <tr>\n      <th>646</th>\n      <td>other</td>\n      <td>1</td>\n      <td>other</td>\n      <td>1</td>\n      <td>mother</td>\n      <td>no</td>\n      <td>9</td>\n    </tr>\n    <tr>\n      <th>647</th>\n      <td>services</td>\n      <td>3</td>\n      <td>services</td>\n      <td>1</td>\n      <td>mother</td>\n      <td>no</td>\n      <td>10</td>\n    </tr>\n    <tr>\n      <th>648</th>\n      <td>services</td>\n      <td>3</td>\n      <td>other</td>\n      <td>2</td>\n      <td>mother</td>\n      <td>no</td>\n      <td>11</td>\n    </tr>\n  </tbody>\n</table>\n<p>649 rows × 7 columns</p>\n</div>"
     },
     "execution_count": 34,
     "metadata": {},
     "output_type": "execute_result"
    }
   ],
   "source": [
    "parent_data = df_por[['Mjob', 'Medu', 'Fjob', 'Fedu', 'guardian', 'famsup', 'G3']]\n",
    "parent_data"
   ],
   "metadata": {
    "collapsed": false,
    "pycharm": {
     "name": "#%%\n"
    }
   }
  },
  {
   "cell_type": "code",
   "execution_count": 35,
   "outputs": [
    {
     "data": {
      "text/plain": "   Mperc  Fperc\n0   0.00   0.01\n1   0.11   0.13\n2   0.14   0.16\n3   0.11   0.10\n4   0.13   0.10",
      "text/html": "<div>\n<style scoped>\n    .dataframe tbody tr th:only-of-type {\n        vertical-align: middle;\n    }\n\n    .dataframe tbody tr th {\n        vertical-align: top;\n    }\n\n    .dataframe thead th {\n        text-align: right;\n    }\n</style>\n<table border=\"1\" class=\"dataframe\">\n  <thead>\n    <tr style=\"text-align: right;\">\n      <th></th>\n      <th>Mperc</th>\n      <th>Fperc</th>\n    </tr>\n  </thead>\n  <tbody>\n    <tr>\n      <th>0</th>\n      <td>0.00</td>\n      <td>0.01</td>\n    </tr>\n    <tr>\n      <th>1</th>\n      <td>0.11</td>\n      <td>0.13</td>\n    </tr>\n    <tr>\n      <th>2</th>\n      <td>0.14</td>\n      <td>0.16</td>\n    </tr>\n    <tr>\n      <th>3</th>\n      <td>0.11</td>\n      <td>0.10</td>\n    </tr>\n    <tr>\n      <th>4</th>\n      <td>0.13</td>\n      <td>0.10</td>\n    </tr>\n  </tbody>\n</table>\n</div>"
     },
     "execution_count": 35,
     "metadata": {},
     "output_type": "execute_result"
    }
   ],
   "source": [
    "labels = ['None', 'Middle School', 'Secondary', 'College']\n",
    "\n",
    "medu = parent_data['Medu'].value_counts().sort_index(ascending=True)\n",
    "fedu = parent_data['Fedu'].value_counts().sort_index(ascending=True)\n",
    "medu1 = pd.DataFrame(medu)\n",
    "fedu2 = pd.DataFrame(fedu)\n",
    "parent_edu = medu1.merge(fedu2, left_index=True, right_index=True)\n",
    "parent_edu['Mperc'] = (round(parent_edu['Medu'] / 1298, 2))\n",
    "parent_edu['Fperc'] = (round(parent_edu['Fedu'] / 1298, 2))\n",
    "parent_edu_ = parent_edu[['Mperc', 'Fperc']]\n",
    "parent_edu = parent_edu[['Medu', 'Fedu']]\n",
    "parent_edu_\n",
    "# parent_edu['Medu'].sum() + parent_edu['Fedu'].sum()"
   ],
   "metadata": {
    "collapsed": false,
    "pycharm": {
     "name": "#%%\n"
    }
   }
  },
  {
   "cell_type": "code",
   "execution_count": 36,
   "outputs": [
    {
     "data": {
      "text/plain": "<Figure size 432x288 with 1 Axes>",
      "image/png": "[encoded data removed]"
     },
     "metadata": {},
     "output_type": "display_data"
    }
   ],
   "source": [
    "grouped_bar2 = parent_edu_.plot(kind='bar', stacked=True, color=['pink', 'blue'], title='Parent Education Level', xlabel='Parent Education Level', ylabel='% of Parents', rot=0)\n",
    "\n",
    "# plt.savefig('figures\\\\parent_edu1.png', dpi=300)"
   ],
   "metadata": {
    "collapsed": false,
    "pycharm": {
     "name": "#%%\n"
    }
   }
  },
  {
   "cell_type": "code",
   "execution_count": 37,
   "outputs": [
    {
     "data": {
      "text/plain": "<Figure size 432x288 with 1 Axes>",
      "image/png": "[encoded data removed]"
     },
     "metadata": {},
     "output_type": "display_data"
    }
   ],
   "source": [
    "grouped_bar3 = parent_edu.plot(kind='bar', stacked=True, color=['pink', 'blue'], title='Parent Education Level', xlabel='Parent Education Level', ylabel='Count', rot=0)\n",
    "\n",
    "# plt.savefig('figures\\\\parent_edu2.png', dpi=300)"
   ],
   "metadata": {
    "collapsed": false,
    "pycharm": {
     "name": "#%%\n"
    }
   }
  },
  {
   "cell_type": "markdown",
   "source": [
    "Based on the graph above, nearly all parents have some level of education, although less than 55% of parents are not high school educated, and less than 25% of parents are college graduates. Given that roughly 86% of US household heads have a college degree, it is fair to assert that the demographic of this school data is low-income or in a developing nation.\n",
    "\n",
    "Furthermore, the fact that the number of parents with a 4-year degree is greater than those with just a diploma may imply these parents are first-generation college graduates.\n",
    "\n",
    "**NOTE:** The dataset does not specify the whether the parents are alive, though based on the guardian field for each student, we can surmise the status of at least one of the parents."
   ],
   "metadata": {
    "collapsed": false,
    "pycharm": {
     "name": "#%% md\n"
    }
   }
  },
  {
   "cell_type": "code",
   "execution_count": 38,
   "outputs": [
    {
     "data": {
      "text/plain": "          Mjob  Fjob\nother      258   367\nservices   136   181\nat_home    135    42\nteacher     72    36\nhealth      48    23",
      "text/html": "<div>\n<style scoped>\n    .dataframe tbody tr th:only-of-type {\n        vertical-align: middle;\n    }\n\n    .dataframe tbody tr th {\n        vertical-align: top;\n    }\n\n    .dataframe thead th {\n        text-align: right;\n    }\n</style>\n<table border=\"1\" class=\"dataframe\">\n  <thead>\n    <tr style=\"text-align: right;\">\n      <th></th>\n      <th>Mjob</th>\n      <th>Fjob</th>\n    </tr>\n  </thead>\n  <tbody>\n    <tr>\n      <th>other</th>\n      <td>258</td>\n      <td>367</td>\n    </tr>\n    <tr>\n      <th>services</th>\n      <td>136</td>\n      <td>181</td>\n    </tr>\n    <tr>\n      <th>at_home</th>\n      <td>135</td>\n      <td>42</td>\n    </tr>\n    <tr>\n      <th>teacher</th>\n      <td>72</td>\n      <td>36</td>\n    </tr>\n    <tr>\n      <th>health</th>\n      <td>48</td>\n      <td>23</td>\n    </tr>\n  </tbody>\n</table>\n</div>"
     },
     "execution_count": 38,
     "metadata": {},
     "output_type": "execute_result"
    }
   ],
   "source": [
    "parent_jobs = parent_data[['Mjob', 'Fjob']]\n",
    "mjobs = pd.DataFrame(parent_jobs['Mjob'].value_counts())\n",
    "fjobs = pd.DataFrame(parent_jobs['Fjob'].value_counts())\n",
    "parents_jobs = mjobs.merge(fjobs, left_index=True, right_index=True)\n",
    "parents_jobs"
   ],
   "metadata": {
    "collapsed": false,
    "pycharm": {
     "name": "#%%\n"
    }
   }
  },
  {
   "cell_type": "code",
   "execution_count": 39,
   "outputs": [
    {
     "data": {
      "text/plain": "<Figure size 432x288 with 1 Axes>",
      "image/png": "[encoded data removed]"
     },
     "metadata": {},
     "output_type": "display_data"
    }
   ],
   "source": [
    "grouped_bar4 = parents_jobs.plot(kind='bar', stacked=True, color=['pink', 'blue'], title='Parent Jobs', xlabel='Job', ylabel='Count', rot=0)\n",
    "\n",
    "# plt.savefig('figures\\\\parent_jobs.png', dpi=300)"
   ],
   "metadata": {
    "collapsed": false,
    "pycharm": {
     "name": "#%%\n"
    }
   }
  },
  {
   "cell_type": "markdown",
   "source": [
    "The above graph displays some interesting pieces of information. As to be expected, mothers make up a greater proportion of service workers, teachers, and health workers than fathers do.\n",
    "\n",
    "We cannot say much more about on this due to a lack of specificity of the \"at home job\" and \"other\" columns, which makes up the majority of this data."
   ],
   "metadata": {
    "collapsed": false,
    "pycharm": {
     "name": "#%% md\n"
    }
   }
  },
  {
   "cell_type": "code",
   "execution_count": 40,
   "outputs": [
    {
     "data": {
      "text/plain": "mother    455\nfather    153\nother      41\nName: guardian, dtype: int64"
     },
     "execution_count": 40,
     "metadata": {},
     "output_type": "execute_result"
    }
   ],
   "source": [
    "parent_data['guardian'].value_counts()"
   ],
   "metadata": {
    "collapsed": false,
    "pycharm": {
     "name": "#%%\n"
    }
   }
  },
  {
   "cell_type": "code",
   "execution_count": null,
   "outputs": [],
   "source": [
    " # # split df by sexes\n",
    "# female_data = df_por.loc[df_por['sex'] == 'F']\n",
    "# male_data = df_por.loc[df_por['sex'] == 'M']\n",
    "#\n",
    "# # isolate alcohol consumption data for each\n",
    "# # Talc (Total alcohol consumption) = Dalc + Walc\n",
    "# female_alc_cons = female_data[['Dalc', 'Walc']]\n",
    "# female_alc_cons['Talc'] = female_data['Walc'] + female_data['Dalc']\n",
    "# male_alc_cons = male_data[['Dalc', 'Walc']]\n",
    "# male_alc_cons['Talc'] = male_data['Walc'] + male_data['Dalc']\n",
    "#\n",
    "# # sum all student Talc values for each sex & divide by number of students of each sex\n",
    "# avg_female_alc_cons = female_alc_cons['Talc'].sum() / len(female_alc_cons)\n",
    "# avg_male_alc_cons = male_alc_cons['Talc'].sum() / len(male_alc_cons)\n",
    "#\n",
    "# # display results\n",
    "# print(f\"Total Male Alcohol Consumption: {round(avg_male_alc_cons, 2)}\")\n",
    "# print(f\"Total Female Alcohol Consumption: {round(avg_female_alc_cons, 2)}\")\n",
    "# avg_male_alc_cons > avg_female_alc_cons"
   ],
   "metadata": {
    "collapsed": false,
    "pycharm": {
     "name": "#%%\n"
    }
   }
  },
  {
   "cell_type": "code",
   "execution_count": null,
   "outputs": [],
   "source": [
    "# sex_grades = raw_student_data_por[['sex', 'G3']]\n",
    "# # ignore outliers\n",
    "# sex_grades = sex_grades.loc[sex_grades['G3'] > 5]\n",
    "# sns.catplot(data=sex_grades, x='sex', y='G3', kind='swarm', hue='sex', s=2.25).set(title='Grade Distributions by Sex', ylabel='Grade', xlabel='Sex')"
   ],
   "metadata": {
    "collapsed": false,
    "pycharm": {
     "name": "#%%\n"
    }
   }
  },
  {
   "cell_type": "code",
   "execution_count": null,
   "outputs": [],
   "source": [],
   "metadata": {
    "collapsed": false,
    "pycharm": {
     "name": "#%%\n"
    }
   }
  },
  {
   "cell_type": "code",
   "execution_count": null,
   "outputs": [],
   "source": [
    "raw_student_data_por['Talc'] = raw_student_data_por['Dalc'] + raw_student_data_por['Walc']\n",
    "\n",
    "total_alc = raw_student_data_por['Talc']\n",
    "\n",
    "bar2 = sns.barplot(x=total_alc.value_counts().keys(), y=total_alc.value_counts().values).set(title='Student Alcohol Consumption Distribution', xlabel='Weekly Alcohol Consumption', ylabel='Number of Students')\n",
    "\n",
    "# plt.savefig('figures\\\\student_alc_cons.png', dpi=300)"
   ],
   "metadata": {
    "collapsed": false,
    "pycharm": {
     "name": "#%%\n"
    }
   }
  },
  {
   "cell_type": "code",
   "execution_count": null,
   "outputs": [],
   "source": [
    "alc_grades = raw_student_data_por[['G3', 'Talc']]\n",
    "alc_grades = alc_grades.loc[alc_grades['G3'] > 0.0]\n",
    "alc_grades = alc_grades.sort_values(by='Talc',ascending=True, ignore_index=True)\n",
    "sns.scatterplot(data=alc_grades, x='Talc', y='G3',).set(title='Alcohol Consumption', xlabel='Weekly Alcohol Consumption', ylabel='Final Grade')"
   ],
   "metadata": {
    "collapsed": false,
    "pycharm": {
     "name": "#%%\n"
    }
   }
  },
  {
   "cell_type": "code",
   "execution_count": null,
   "outputs": [],
   "source": [
    "# absent_grades = df_por[['absences', 'G3']]\n",
    "# absent_grades = absent_grades.loc[absent_grades['G3'] > 0.0]\n",
    "# # absent_grades.plot(kind='scatter', x='absences', y='G3')\n",
    "# scatterplot = sns.regplot(x=absent_grades['absences'], y=absent_grades['G3'], truncate=False)"
   ],
   "metadata": {
    "collapsed": false,
    "pycharm": {
     "name": "#%%\n"
    }
   }
  },
  {
   "cell_type": "code",
   "execution_count": null,
   "outputs": [],
   "source": [
    "# feature correlation heatmap\n",
    "\n",
    "# plt.figure(figsize=(15, 15))\n",
    "# sns.heatmap(raw_student_data_math.corr(), annot=True, fmt=\".2f\", cbar=True)\n",
    "# plt.xticks(rotation=90)\n",
    "# plt.yticks(rotation=0)"
   ],
   "metadata": {
    "collapsed": false,
    "pycharm": {
     "name": "#%%\n"
    }
   }
  },
  {
   "cell_type": "code",
   "execution_count": null,
   "outputs": [],
   "source": [],
   "metadata": {
    "collapsed": false,
    "pycharm": {
     "name": "#%%\n"
    }
   }
  },
  {
   "cell_type": "code",
   "execution_count": null,
   "outputs": [],
   "source": [],
   "metadata": {
    "collapsed": false,
    "pycharm": {
     "name": "#%%\n"
    }
   }
  }
 ],
 "metadata": {
  "kernelspec": {
   "display_name": "Python 3",
   "language": "python",
   "name": "python3"
  },
  "language_info": {
   "codemirror_mode": {
    "name": "ipython",
    "version": 2
   },
   "file_extension": ".py",
   "mimetype": "text/x-python",
   "name": "python",
   "nbconvert_exporter": "python",
   "pygments_lexer": "ipython2",
   "version": "2.7.6"
  }
 },
 "nbformat": 4,
 "nbformat_minor": 0
}